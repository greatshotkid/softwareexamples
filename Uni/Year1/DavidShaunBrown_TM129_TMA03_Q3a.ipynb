{
 "cells": [
  {
   "cell_type": "markdown",
   "id": "electronic-overall",
   "metadata": {},
   "source": [
    "<h1><span style=\"text-decoration: underline;\"><strong>David Shaun Brown TMA03 Q3</strong></span></h1>\n",
    "<p>First thing to do is to load the simulator by running the next code block.</p>"
   ]
  },
  {
   "cell_type": "code",
   "execution_count": 1,
   "id": "afraid-broadway",
   "metadata": {},
   "outputs": [
    {
     "data": {
      "text/html": [
       "<style>#notebook-container { width:50%; float:left !important;}</style>"
      ],
      "text/plain": [
       "<IPython.core.display.HTML object>"
      ]
     },
     "metadata": {},
     "output_type": "display_data"
    },
    {
     "data": {
      "application/javascript": [
       "\n",
       "$(function() {\n",
       "    $(\"#notebook-container\").resizable({\n",
       "        handles: 'e',\n",
       "        //containment: '#container',\n",
       "\n",
       "    });     \n",
       "});  \n"
      ],
      "text/plain": [
       "<IPython.core.display.Javascript object>"
      ]
     },
     "metadata": {},
     "output_type": "display_data"
    },
    {
     "data": {
      "application/vnd.jupyter.widget-view+json": {
       "model_id": "72b2846be9d94bb78b5373a5571d24cb",
       "version_major": 2,
       "version_minor": 0
      },
      "text/plain": [
       "Ev3DevWidget(status='deferring flush until render')"
      ]
     },
     "metadata": {},
     "output_type": "display_data"
    }
   ],
   "source": [
    "from nbev3devsim.load_nbev3devwidget import roboSim, eds\n",
    "\n",
    "%load_ext nbev3devsim"
   ]
  },
  {
   "cell_type": "markdown",
   "id": "beneficial-hungary",
   "metadata": {},
   "source": [
    "Now we need to load the program we are going to modify by running the code block below."
   ]
  },
  {
   "cell_type": "code",
   "execution_count": 2,
   "id": "dangerous-perfume",
   "metadata": {},
   "outputs": [],
   "source": [
    "%%sim_magic_preloaded --background Grey_bands -R\n",
    "# Program to count the bands aloud\n",
    "\n",
    "# Start the robot moving\n",
    "tank_drive.on(SpeedPercent(15), SpeedPercent(15))\n",
    "\n",
    "# Initial count value\n",
    "count = 0\n",
    "\n",
    "# Initial sensor reading\n",
    "previous_value = colorLeft.reflected_light_intensity_pc\n",
    "\n",
    "# Create a loop\n",
    "while True:\n",
    "\n",
    "    # Check current sensor reading\n",
    "    current_value = colorLeft.reflected_light_intensity_pc\n",
    "\n",
    "    # Test when the robot has entered a band\n",
    "    if previous_value==100 and current_value < 100:\n",
    "        # When on a new band:\n",
    "        # - increase the count\n",
    "        count = count + 1\n",
    "        # - display the count in the output window\n",
    "        print(count)\n",
    "        # - say the count aloud\n",
    "        say(str(count))\n",
    "\n",
    "    # Update previous sensor reading\n",
    "    previous_value = current_value\n"
   ]
  },
  {
   "cell_type": "markdown",
   "id": "enormous-murray",
   "metadata": {},
   "source": [
    "Time to amend the program to achieve Q3 part ai"
   ]
  },
  {
   "cell_type": "code",
   "execution_count": 2,
   "id": "fluid-president",
   "metadata": {},
   "outputs": [],
   "source": [
    "%%sim_magic_preloaded --background Coloured_bands -R\n",
    "# Program to count the coloured bands aloud\n",
    "\n",
    "# Start the robot moving\n",
    "tank_drive.on(SpeedPercent(15), SpeedPercent(15))\n",
    "\n",
    "# Initial count value\n",
    "count = 0\n",
    "\n",
    "# Initial sensor reading\n",
    "previous_value = colorLeft.full_reflected_light_intensity\n",
    "\n",
    "# Create a loop\n",
    "while True:\n",
    "\n",
    "    # Check current sensor reading\n",
    "    current_value = colorLeft.full_reflected_light_intensity\n",
    "\n",
    "    # Test when the robot has entered a band\n",
    "    if previous_value==100 and current_value < 100:\n",
    "        # When on a new band:\n",
    "        # - increase the count\n",
    "        count = count + 1\n",
    "        # - display the count in the output window\n",
    "        print(count)\n",
    "        # - say the count aloud\n",
    "        say(str(count))\n",
    "        \n",
    "    if current_value == 0:\n",
    "        break\n",
    "        \n",
    "    # Update previous sensor reading\n",
    "    previous_value = current_value\n",
    "    \n",
    "   \n"
   ]
  },
  {
   "cell_type": "markdown",
   "id": "photographic-jersey",
   "metadata": {},
   "source": [
    "<p><span style=\"font-size: 12pt;\"><strong>Success!!!!!</strong></span></p>\n",
    "<p>&nbsp;</p>\n",
    "<p><span style=\"font-size: 10pt;\">Now lets seee what happens when we change the background to rainbow bands....</span></p>"
   ]
  },
  {
   "cell_type": "code",
   "execution_count": 3,
   "id": "bronze-freeware",
   "metadata": {},
   "outputs": [],
   "source": [
    "%%sim_magic_preloaded --background Rainbow_bands -R\n",
    "# Program to count the coloured bands aloud\n",
    "\n",
    "# Start the robot moving\n",
    "tank_drive.on(SpeedPercent(15), SpeedPercent(15))\n",
    "\n",
    "# Initial count value\n",
    "count = 0\n",
    "\n",
    "# Initial sensor reading\n",
    "previous_value = colorLeft.full_reflected_light_intensity\n",
    "\n",
    "# Create a loop\n",
    "while True:\n",
    "\n",
    "    # Check current sensor reading\n",
    "    current_value = colorLeft.full_reflected_light_intensity\n",
    "\n",
    "    # Test when the robot has entered a band\n",
    "    if previous_value == 100 and current_value < 100:\n",
    "        # When on a new band:\n",
    "        # - increase the count\n",
    "        count = count + 1\n",
    "        # - display the count in the output window\n",
    "        print(count)\n",
    "        # - say the count aloud\n",
    "        say(str(count))\n",
    "        \n",
    "    if current_value == 0:\n",
    "        break\n",
    "        \n",
    "    # Update previous sensor reading\n",
    "    previous_value = current_value\n",
    "    \n",
    "   \n"
   ]
  },
  {
   "cell_type": "code",
   "execution_count": null,
   "id": "conceptual-fleece",
   "metadata": {},
   "outputs": [],
   "source": []
  }
 ],
 "metadata": {
  "kernelspec": {
   "display_name": "Python 3",
   "language": "python",
   "name": "python3"
  },
  "language_info": {
   "codemirror_mode": {
    "name": "ipython",
    "version": 3
   },
   "file_extension": ".py",
   "mimetype": "text/x-python",
   "name": "python",
   "nbconvert_exporter": "python",
   "pygments_lexer": "ipython3",
   "version": "3.8.6"
  }
 },
 "nbformat": 4,
 "nbformat_minor": 5
}
