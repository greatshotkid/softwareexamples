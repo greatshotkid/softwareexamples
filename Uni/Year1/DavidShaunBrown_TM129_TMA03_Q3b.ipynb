{
 "cells": [
  {
   "cell_type": "markdown",
   "id": "acting-commodity",
   "metadata": {},
   "source": [
    "<h1><span style=\"text-decoration: underline;\"><strong>David Shaun Brown TMA03 Q3b</strong></span></h1>\n",
    "<p style=\"text-align: justify;\">&nbsp;</p>\n",
    "<p style=\"text-align: justify;\">First thing to do is to load the simulator by running the following code block.</p>"
   ]
  },
  {
   "cell_type": "code",
   "execution_count": 1,
   "id": "documentary-estimate",
   "metadata": {},
   "outputs": [
    {
     "data": {
      "text/html": [
       "<style>#notebook-container { width:50%; float:left !important;}</style>"
      ],
      "text/plain": [
       "<IPython.core.display.HTML object>"
      ]
     },
     "metadata": {},
     "output_type": "display_data"
    },
    {
     "data": {
      "application/javascript": [
       "\n",
       "$(function() {\n",
       "    $(\"#notebook-container\").resizable({\n",
       "        handles: 'e',\n",
       "        //containment: '#container',\n",
       "\n",
       "    });     \n",
       "});  \n"
      ],
      "text/plain": [
       "<IPython.core.display.Javascript object>"
      ]
     },
     "metadata": {},
     "output_type": "display_data"
    },
    {
     "data": {
      "application/vnd.jupyter.widget-view+json": {
       "model_id": "b9a678d42d5748099f39a0d96cd62ba5",
       "version_major": 2,
       "version_minor": 0
      },
      "text/plain": [
       "Ev3DevWidget(status='deferring flush until render')"
      ]
     },
     "metadata": {},
     "output_type": "display_data"
    }
   ],
   "source": [
    "from nbev3devsim.load_nbev3devwidget import roboSim, eds\n",
    "\n",
    "%load_ext nbev3devsim"
   ]
  },
  {
   "cell_type": "code",
   "execution_count": 20,
   "id": "veterinary-mission",
   "metadata": {},
   "outputs": [],
   "source": [
    "\n",
    "%%sim_magic_preloaded -b Empty_Map -x 700 -y 700 -p \n",
    "# Draw shape as stated in TMa 03 Q3b\n",
    "\n",
    "# Set range for number of iterations of loop\n",
    "M=1\n",
    "N=5\n",
    "\n",
    "for i in (range(M,N)):\n",
    "    #Go straight\n",
    "    # Set the left and right motors in a forward direction\n",
    "    # and run for 3 rotation\n",
    "    tank_drive.on_for_rotations(SpeedPercent(30),SpeedPercent(30), 8)\n",
    "    \n",
    "    #left turn to create closed loop at each corner\n",
    "    tank_drive.on_for_rotations(SpeedPercent(15), SpeedPercent(45), 14.49)\n",
    "\n",
    "    "
   ]
  },
  {
   "cell_type": "code",
   "execution_count": null,
   "id": "precise-apollo",
   "metadata": {},
   "outputs": [],
   "source": []
  }
 ],
 "metadata": {
  "kernelspec": {
   "display_name": "Python 3",
   "language": "python",
   "name": "python3"
  },
  "language_info": {
   "codemirror_mode": {
    "name": "ipython",
    "version": 3
   },
   "file_extension": ".py",
   "mimetype": "text/x-python",
   "name": "python",
   "nbconvert_exporter": "python",
   "pygments_lexer": "ipython3",
   "version": "3.8.6"
  }
 },
 "nbformat": 4,
 "nbformat_minor": 5
}
